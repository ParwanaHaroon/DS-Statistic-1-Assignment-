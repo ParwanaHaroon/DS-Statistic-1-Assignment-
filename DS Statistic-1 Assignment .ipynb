{
 "cells": [
  {
   "cell_type": "code",
   "execution_count": 1,
   "metadata": {},
   "outputs": [],
   "source": [
    "# Statistic Assignment - 1 solutions"
   ]
  },
  {
   "cell_type": "code",
   "execution_count": 2,
   "metadata": {},
   "outputs": [],
   "source": [
    "# problem statement 1: find the sd from the given data\n",
    "# 1550, 1700, 900, 850, 1000, 950\n",
    "\n",
    "# ps # 2: find the variance for the following set of data representi\n",
    "# trees in California (3, 21, 98, 203, 17, 9)\n",
    "\n",
    "\n",
    "# ps # 3: in a class on 100 students, 80 students passed in all sub\n",
    "# 10, failed in one subj, 7 failed in two sub, and 3 failed in 3 sub\n",
    "# find the prob dist of the variable for number of subj a student \n",
    "# from the given class has failed in\n",
    "\n"
   ]
  },
  {
   "cell_type": "code",
   "execution_count": 9,
   "metadata": {},
   "outputs": [],
   "source": [
    "# 1: SD\n",
    "\n",
    "from statistics import stdev\n",
    "from fractions import Fraction as fr"
   ]
  },
  {
   "cell_type": "code",
   "execution_count": 10,
   "metadata": {},
   "outputs": [],
   "source": [
    "sample = [1550, 1700, 900, 850, 1000, 950]"
   ]
  },
  {
   "cell_type": "code",
   "execution_count": 11,
   "metadata": {},
   "outputs": [
    {
     "name": "stdout",
     "output_type": "stream",
     "text": [
      "Standard Deviation of Sample is 367.9900360969936 \n"
     ]
    }
   ],
   "source": [
    "print(\"Standard Deviation of Sample is % s \" % (stdev(sample)))"
   ]
  },
  {
   "cell_type": "code",
   "execution_count": 13,
   "metadata": {},
   "outputs": [],
   "source": [
    "# 2: SD\n",
    "\n",
    "from statistics import variance\n",
    "from fractions import Fraction as fr"
   ]
  },
  {
   "cell_type": "code",
   "execution_count": 15,
   "metadata": {},
   "outputs": [
    {
     "name": "stdout",
     "output_type": "stream",
     "text": [
      "Variance of sample2 is 6219.9 \n"
     ]
    }
   ],
   "source": [
    "sample2 = (3, 21, 98, 203, 17, 9)\n",
    "\n",
    "print(\"Variance of sample2 is % s \" %(variance(sample2)))"
   ]
  },
  {
   "cell_type": "code",
   "execution_count": null,
   "metadata": {},
   "outputs": [],
   "source": []
  }
 ],
 "metadata": {
  "kernelspec": {
   "display_name": "Python 3",
   "language": "python",
   "name": "python3"
  },
  "language_info": {
   "codemirror_mode": {
    "name": "ipython",
    "version": 3
   },
   "file_extension": ".py",
   "mimetype": "text/x-python",
   "name": "python",
   "nbconvert_exporter": "python",
   "pygments_lexer": "ipython3",
   "version": "3.6.5"
  }
 },
 "nbformat": 4,
 "nbformat_minor": 2
}
